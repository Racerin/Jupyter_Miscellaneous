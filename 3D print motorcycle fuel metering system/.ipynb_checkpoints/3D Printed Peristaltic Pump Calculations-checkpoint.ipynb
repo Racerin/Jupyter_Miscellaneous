{
 "cells": [
  {
   "cell_type": "code",
   "execution_count": 4,
   "id": "e6cedc4d",
   "metadata": {},
   "outputs": [
    {
     "name": "stdout",
     "output_type": "stream",
     "text": [
      "This is throttle torque 1.3333333333333333Nm.\n"
     ]
    }
   ],
   "source": [
    "# Throttle body torque conversion\n",
    "# According to chatGPT, Hand torque is 2Nm to 4Nm (18-35 lb-in)\n",
    "hand_torque = 2 # Nm\n",
    "hand_grip_radius = 1 # 1 inch\n",
    "throttle_radius = 3/4 # 3/4 inches\n",
    "# Force_1 = Force_2 = Torque*Radius\n",
    "throttle_torque = hand_grip_radius * hand_grip_radius / throttle_radius\n",
    "print(\"This is throttle torque \", throttle_torque, \"Nm.\", sep=\"\")"
   ]
  },
  {
   "cell_type": "code",
   "execution_count": 6,
   "id": "9988d2fe",
   "metadata": {},
   "outputs": [
    {
     "name": "stdout",
     "output_type": "stream",
     "text": [
      "The spring length in mm is: 79.79645340118074\n"
     ]
    }
   ],
   "source": [
    "import math\n",
    "\n",
    "# Throttle Return Spring Length\n",
    "barrel_diameter = 2 * 25.4\n",
    "fraction_of_barrel_for_spring = 3/8\n",
    "spring_length = barrel_diameter * fraction_of_barrel_for_spring * math.pi\n",
    "print(\"The spring length in mm is:\", spring_length)"
   ]
  }
 ],
 "metadata": {
  "kernelspec": {
   "display_name": "Python 3 (ipykernel)",
   "language": "python",
   "name": "python3"
  },
  "language_info": {
   "codemirror_mode": {
    "name": "ipython",
    "version": 3
   },
   "file_extension": ".py",
   "mimetype": "text/x-python",
   "name": "python",
   "nbconvert_exporter": "python",
   "pygments_lexer": "ipython3",
   "version": "3.9.13"
  }
 },
 "nbformat": 4,
 "nbformat_minor": 5
}
