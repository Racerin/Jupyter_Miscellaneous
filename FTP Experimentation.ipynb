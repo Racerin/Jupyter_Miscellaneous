{
 "cells": [
  {
   "cell_type": "code",
   "execution_count": 1,
   "id": "806ada9c",
   "metadata": {},
   "outputs": [],
   "source": [
    "#Load dotenv file and information\n",
    "import os\n",
    "\n",
    "from dotenv import load_dotenv\n",
    "\n",
    "load_dotenv()\n",
    "\n",
    "\n",
    "servername = os.environ.get(\"PYTHON_FTP_SERVER\")\n",
    "username = os.environ.get(\"PYTHON_FTP_USERNAME\")\n",
    "password = os.environ.get(\"PYTHON_FTP_PASSWORD\")\n",
    "\n",
    "_pairs = zip(('servername', 'username', 'password'), (servername, username, password,))\n",
    "\n",
    "for nm, val in _pairs:\n",
    "    if not val:\n",
    "        raise ValueError(\"{} was not found.\".format(nm))"
   ]
  },
  {
   "cell_type": "code",
   "execution_count": null,
   "id": "ceb6af7b",
   "metadata": {},
   "outputs": [],
   "source": [
    "# Querie Files\n",
    "\n"
   ]
  }
 ],
 "metadata": {
  "kernelspec": {
   "display_name": "Python 3 (ipykernel)",
   "language": "python",
   "name": "python3"
  },
  "language_info": {
   "codemirror_mode": {
    "name": "ipython",
    "version": 3
   },
   "file_extension": ".py",
   "mimetype": "text/x-python",
   "name": "python",
   "nbconvert_exporter": "python",
   "pygments_lexer": "ipython3",
   "version": "3.10.4"
  }
 },
 "nbformat": 4,
 "nbformat_minor": 5
}
