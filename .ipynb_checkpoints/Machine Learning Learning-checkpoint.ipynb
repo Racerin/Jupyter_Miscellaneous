{
 "cells": [
  {
   "cell_type": "code",
   "execution_count": 6,
   "metadata": {},
   "outputs": [],
   "source": [
    "import tensorflow as tf\n",
    "from tensorflow import keras\n",
    "import numpy as np"
   ]
  },
  {
   "cell_type": "code",
   "execution_count": null,
   "metadata": {},
   "outputs": [],
   "source": [
    "\n",
    "#get data\n",
    "(trainImages, trainLabels), (testImages, testLabels) = keras.datasets.mnist.load_data()\n",
    "\n",
    "#setup model\n",
    "model = keras.Sequential([\n",
    "    keras.layers.Flatten(input_shape=(28,28)),\n",
    "    keras.layers.Dense(128, activation=tf.nn.relu),\n",
    "    keras.layers.Dense(100, activation=tf.nn.softmax)\n",
    "])\n",
    "\n",
    "model.compile(optimizer=tf.train.AdamOptimizer(),\n",
    "             loss='sparse_categorical_crossentropy',\n",
    "             metrics=['accurate'])\n",
    "\n",
    "#train model\n",
    "model.fit(trainImages, trainLabels, epochs=5)\n",
    "\n",
    "#evaluate\n",
    "testLoss, testAcc = model.evaluate(testImages, testLabels)\n",
    "print('test accuracy', testAcc)\n",
    "\n",
    "#make predictions\n",
    "predictions = model.predict(testImages)"
   ]
  },
  {
   "cell_type": "code",
   "execution_count": 17,
   "metadata": {},
   "outputs": [
    {
     "name": "stdout",
     "output_type": "stream",
     "text": [
      "ERROR:tensorflow:==================================\n",
      "Object was never used (type <class 'tensorflow.python.framework.ops.Operation'>):\n",
      "<tf.Operation 'init_3' type=NoOp>\n",
      "If you want to mark it as used call its \"mark_used()\" method.\n",
      "It was originally created here:\n",
      "  File \"c:\\program files\\python37\\lib\\site-packages\\IPython\\core\\interactiveshell.py\", line 3346, in run_code\n",
      "    return outflag  File \"<ipython-input-16-13b58c2e5e7f>\", line 8, in <module>\n",
      "    init = tf.compat.v1.initialize_all_variables()  File \"c:\\program files\\python37\\lib\\site-packages\\tensorflow_core\\python\\util\\tf_should_use.py\", line 198, in wrapped\n",
      "    return _add_should_use_warning(fn(*args, **kwargs))\n",
      "==================================\n"
     ]
    }
   ],
   "source": [
    "tf.compat.v1.disable_eager_execution() #https://github.com/tensorflow/tensorflow/issues/18165#issuecomment-480056645\n",
    "#tf.enable_eager_execution()\n",
    "X = tf.compat.v1.placeholder(tf.float32, [None, 28, 28, 1])\n",
    "W = tf.Variable(tf.zeros([784, 10]))\n",
    "b = tf.Variable(tf.zeros([10]))\n",
    "#tf.compat.v1.placeholder()\n",
    "\n",
    "init = tf.compat.v1.initialize_all_variables()\n",
    "#model\n",
    "Y = tf.nn.softmax(tf.matmul(tf.reshape(X, [-1, 784]), W) + b)#the predictions\n",
    "#placeholder for orrect answer\n",
    "Y_ = tf.compat.v1.placeholder(tf.float32, [None, 10])\n",
    "\n",
    "#loss function\n",
    "cross_entropy = -tf.reduce_sum(Y_ * tf.math.log(Y))\n",
    "\n",
    "#percent of correct answers found in batch\n",
    "is_correct = tf.equal(tf.argmax(Y,1), tf.argmax(Y_,1))\n",
    "accuracy = tf.reduce_mean(tf.cast(is_correct, tf.float32))\n",
    "\n",
    "#training\n",
    "optimizer = tf.train.GradientDescentOptimizer(0.003)#one of many ways to train\n",
    "train_step = optimizer.minimize(cross_entropy)\n"
   ]
  }
 ],
 "metadata": {
  "kernelspec": {
   "display_name": "Python 3",
   "language": "python",
   "name": "python3"
  },
  "language_info": {
   "codemirror_mode": {
    "name": "ipython",
    "version": 3
   },
   "file_extension": ".py",
   "mimetype": "text/x-python",
   "name": "python",
   "nbconvert_exporter": "python",
   "pygments_lexer": "ipython3",
   "version": "3.7.3"
  }
 },
 "nbformat": 4,
 "nbformat_minor": 2
}
