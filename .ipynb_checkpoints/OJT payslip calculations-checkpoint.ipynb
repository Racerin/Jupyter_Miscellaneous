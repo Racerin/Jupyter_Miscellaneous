{
 "cells": [
  {
   "cell_type": "code",
   "execution_count": 14,
   "id": "763751f2",
   "metadata": {},
   "outputs": [
    {
     "name": "stdout",
     "output_type": "stream",
     "text": [
      "These are normalized values: [0.0, 0.10344827586206896, 0.3333333333333333, 0.3793103448275862, 0.5057471264367817, 0.5172413793103449, 0.9310344827586207, 1.0]\n",
      "These are page position values: [0, 2.8096551724137933, 9.053333333333333, 10.302068965517241, 13.73609195402299, 14.048275862068966, 25.286896551724137, 27.16]\n"
     ]
    }
   ],
   "source": [
    "# Enter data points\n",
    "spots = 440, 840, 920, 1140, 1160, 1880, 1960,\n",
    "# Output values\n",
    "normalized = list()\n",
    "page_positions = [0, (29.7-2.54)]\n",
    "\n",
    "# Startup calculations\n",
    "spots_max_range = spots[-1] - spots[0]\n",
    "page_pos_s_max_range = page_positions[-1] - page_positions[0]\n",
    "\n",
    "\n",
    "# Process for each output\n",
    "for i, spot in enumerate(spots):\n",
    "#     normalized values\n",
    "    normzed = (spot-spots[0]) / spots_max_range\n",
    "    normalized.append(normzed)\n",
    "#     page positions\n",
    "    if i==0 or spot is spots[-1]:\n",
    "        pass\n",
    "    else:\n",
    "        page_pos = (normzed*page_pos_s_max_range) + page_positions[0]\n",
    "        page_positions.insert(-1, page_pos)\n",
    "    \n",
    "# Show outputs\n",
    "print(\"These are normalized values:\", normalized)\n",
    "print(\"These are page position values:\", page_positions)"
   ]
  },
  {
   "cell_type": "code",
   "execution_count": 6,
   "id": "bfb6f134",
   "metadata": {},
   "outputs": [
    {
     "name": "stdout",
     "output_type": "stream",
     "text": [
      "['a', 0, 1, 2, 3, 4, 5, 6, 7, 8, 9, 'z']\n"
     ]
    }
   ],
   "source": [
    "# Experimenting with insert\n",
    "temp = ['a', 'z']\n",
    "\n",
    "for i in range(10):\n",
    "    temp.insert(-1, i)\n",
    "\n",
    "print(temp)\n",
    "\n",
    "# NB. negative indices seem to work"
   ]
  },
  {
   "cell_type": "code",
   "execution_count": 11,
   "id": "6a94166e",
   "metadata": {},
   "outputs": [
    {
     "name": "stdout",
     "output_type": "stream",
     "text": [
      "['__add__', '__class__', '__class_getitem__', '__contains__', '__delattr__', '__delitem__', '__dir__', '__doc__', '__eq__', '__format__', '__ge__', '__getattribute__', '__getitem__', '__gt__', '__hash__', '__iadd__', '__imul__', '__init__', '__init_subclass__', '__iter__', '__le__', '__len__', '__lt__', '__mul__', '__ne__', '__new__', '__reduce__', '__reduce_ex__', '__repr__', '__reversed__', '__rmul__', '__setattr__', '__setitem__', '__sizeof__', '__str__', '__subclasshook__', 'append', 'clear', 'copy', 'count', 'extend', 'index', 'insert', 'pop', 'remove', 'reverse', 'sort']\n"
     ]
    }
   ],
   "source": [
    "print(dir(list()))\n",
    "# help(list)"
   ]
  }
 ],
 "metadata": {
  "kernelspec": {
   "display_name": "Python 3 (ipykernel)",
   "language": "python",
   "name": "python3"
  },
  "language_info": {
   "codemirror_mode": {
    "name": "ipython",
    "version": 3
   },
   "file_extension": ".py",
   "mimetype": "text/x-python",
   "name": "python",
   "nbconvert_exporter": "python",
   "pygments_lexer": "ipython3",
   "version": "3.10.4"
  }
 },
 "nbformat": 4,
 "nbformat_minor": 5
}
