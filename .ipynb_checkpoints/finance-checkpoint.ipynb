{
 "cells": [
  {
   "cell_type": "code",
   "execution_count": 6,
   "metadata": {},
   "outputs": [],
   "source": [
    "#my investment calculator parameters\n",
    "import math\n",
    "\n",
    "downpayment = 0\n",
    "dividend = 1000\n",
    "\n",
    "bank = downpayment\n",
    "depositTotal = downpayment\n",
    "depositTotalFuture = downpayment\n",
    "interestCycle = 'quarterly'\n",
    "\n",
    "rate = 1.05\n",
    "inflation = 1.05\n",
    "\n",
    "years = 40\n",
    "months = years * 12\n",
    "\n",
    "def refreshBank():\n",
    "    global bank, depositTotal, depositTotalFuture\n",
    "    bank = downpayment\n",
    "    depositTotal = downpayment\n",
    "    depositTotalFuture = downpayment\n",
    "    \n",
    "def monthIncrease():\n",
    "    global bank, depositTotal, depositTotalFuture\n",
    "    bank += dividend\n",
    "    depositTotal += dividend\n",
    "    depositTotalFuture += dividend\n",
    "    \n",
    "def interval(period='annually'):\n",
    "    if period == 'monthly':\n",
    "        eachTime = 1\n",
    "    elif period == 'bimonthly':\n",
    "        eachTime = 2\n",
    "    elif period == 'quarterly':\n",
    "        eachTime = 3\n",
    "    elif period == 'semi':\n",
    "        eachTime = 6\n",
    "    elif period == 'yearly' or period == 'annually':\n",
    "        eachTime = 12\n",
    "    else:\n",
    "        print(\"The interest interval was not defined. Default to annually.\")\n",
    "        eachTime = 1\n",
    "    return eachTime\n",
    "\n",
    "def roundToCents(money, floorQ=False, intergerQ=True):\n",
    "    if isinstance(money, float):\n",
    "        if floorQ:\n",
    "            rounded = math.floor(money*1e2) / 1e2\n",
    "            #rounded = money // 0.01 / 100\n",
    "        else:\n",
    "            rounded = round(money, 2)\n",
    "        ans = rounded\n",
    "    elif isinstance(money, int):\n",
    "        ans = money\n",
    "    ans = ans if intergerQ else str(ans)\n",
    "    return ans\n",
    "    "
   ]
  },
  {
   "cell_type": "code",
   "execution_count": 7,
   "metadata": {},
   "outputs": [
    {
     "name": "stdout",
     "output_type": "stream",
     "text": [
      "Final bank, $716899.0\n",
      "Investment gain: $431893.86\n",
      "Total deposited: 480000\n"
     ]
    }
   ],
   "source": [
    "#investment calculator\n",
    "refreshBank()\n",
    "\n",
    "interestCycle = 'annually'\n",
    "eachTime = interval(interestCycle)\n",
    "\n",
    "for month in range(months):\n",
    "    monthIncrease()\n",
    "    #interest increase if interest period reached\n",
    "    if (month % eachTime) + 1 == 1:\n",
    "        bank *= rate\n",
    "    #inflation devalue if end of year\n",
    "    if (month % 12) + 1 == 1:\n",
    "        bank /= inflation\n",
    "        depositTotalFuture /= inflation\n",
    "\n",
    "gains = bank - depositTotalFuture\n",
    "\n",
    "bankRounded = roundToCents(bank)\n",
    "gainsRounded = roundToCents(gains)\n",
    "\n",
    "print(f\"Final bank, ${bankRounded}\")\n",
    "print(f\"Investment gain: ${gainsRounded}\")\n",
    "print(f\"Total deposited: {depositTotal}\")"
   ]
  },
  {
   "cell_type": "code",
   "execution_count": 9,
   "metadata": {},
   "outputs": [
    {
     "name": "stdout",
     "output_type": "stream",
     "text": [
      "It took 7 years and 5 months to get $450000.0.\n"
     ]
    }
   ],
   "source": [
    "#how long to get certain amount of money\n",
    "\n",
    "refreshBank()\n",
    "month = 0\n",
    "#target = 1.5e6\n",
    "target = 450e3\n",
    "bank = 0\n",
    "\n",
    "bankProgress = target\n",
    "loseCount = 0\n",
    "loseCountLimit = 3\n",
    "\n",
    "#interestCycle = 'quarterly'\n",
    "interestCycle = 'yearly'\n",
    "eachTime = interval(interestCycle)\n",
    "\n",
    "\n",
    "while True:\n",
    "    monthIncrease()\n",
    "    \n",
    "    if (month % eachTime) + 1 == 1:\n",
    "        bank *= rate\n",
    "        \n",
    "    if (month % 12) + 1 == 1:\n",
    "        bank /= inflation\n",
    "    \n",
    "    #if bank not getting closer, break\n",
    "    tempBankProgress = target - bank\n",
    "    loseCount = loseCount + 1 if tempBankProgress > bankProgress else 0\n",
    "    if loseCount > loseCountLimit:\n",
    "        print(f\"The bank is not getting bigger. This is the bank: {bank}.\")\n",
    "        break\n",
    "    else:\n",
    "        bankProgress = target - bank\n",
    "        \n",
    "    if bank >= target:\n",
    "        break\n",
    "        \n",
    "    #iterate\n",
    "    month += 1\n",
    "        \n",
    "yea, mon = divmod(month, 12)\n",
    "if yea:\n",
    "    strung = f\"It took {yea} years and {mon} months to get ${target}.\"\n",
    "else:\n",
    "    strung = f\"It took {month} months to get ${target}.\"\n",
    "    \n",
    "print(strung)\n"
   ]
  },
  {
   "cell_type": "code",
   "execution_count": 93,
   "metadata": {},
   "outputs": [
    {
     "name": "stdout",
     "output_type": "stream",
     "text": [
      "Bank: $100000.0, Salary: $1333.3333333333346.\n"
     ]
    }
   ],
   "source": [
    "#money market income\n",
    "\n",
    "#option input\n",
    "#bank = 450e3\n",
    "bank = 1e5\n",
    "\n",
    "moneyMarketRate = rate - 1\n",
    "moneyMarketPeriod = interval(interestCycle)\n",
    "\n",
    "periodSalary = bank * moneyMarketRate\n",
    "monthlySalary = periodSalary / moneyMarketPeriod\n",
    "yearlySalary = monthlySalary * 12\n",
    "salary = monthlySalary\n",
    "\n",
    "print(f\"Bank: ${bank}, Salary: ${salary}.\")"
   ]
  },
  {
   "cell_type": "code",
   "execution_count": 92,
   "metadata": {},
   "outputs": [
    {
     "name": "stdout",
     "output_type": "stream",
     "text": [
      "For the salary $4000, you would need a bank of $299999.9999999997 in the money market fund.\n"
     ]
    }
   ],
   "source": [
    "#money market bank (from salary)\n",
    "\n",
    "salary = 6000\n",
    "salary = 4000\n",
    "moneyMarketRate = rate - 1\n",
    "moneyMarketPeriod = interval(interestCycle)\n",
    "\n",
    "periodSalary = salary * moneyMarketPeriod\n",
    "moneyMarketBank = periodSalary / moneyMarketRate\n",
    "\n",
    "print(f\"For the salary ${salary}, you would need a bank of ${moneyMarketBank} in the money market fund.\")"
   ]
  },
  {
   "cell_type": "code",
   "execution_count": 66,
   "metadata": {},
   "outputs": [
    {
     "name": "stdout",
     "output_type": "stream",
     "text": [
      "Do you accept these numbers? [Y/N]\n",
      "[1604878270.719397, '60.8690', '59.6755', '-17.24', '381.23']\n",
      "n\n",
      "You do not accept these values.\n",
      "This is the current stores values.\n",
      "(1604877793.0730772, 60.869, 59.6755, -17.24, 381.23)\n"
     ]
    }
   ],
   "source": [
    "#keeping up to date on republic bank mutual fund\n",
    "\n",
    "import time, configparser, re, requests, sqlite3\n",
    "from bs4 import BeautifulSoup\n",
    "\n",
    "\n",
    "#Republic Caribbean Equity Fund\n",
    "def republic_caribbean_equity_fund():\n",
    "    #GET NUMBERS OFF OF WEBSITE\n",
    "    #get web info\n",
    "    url = 'https://republictt.com/corporate/republic-mutual-funds'\n",
    "    html = requests.get(url).text\n",
    "    soup = BeautifulSoup(html)\n",
    "    \n",
    "    #parse web info\n",
    "    #hierarchy: tbody > tr > td > (all the numbers)\n",
    "    match_strings = []\n",
    "    escape_bool = False\n",
    "    for tbody in soup.find_all('tbody'):\n",
    "        #print(tbody, '\\n')\n",
    "        for tr in tbody.find_all('tr'):\n",
    "            elements = [td.string for td in tr.find_all('td')]\n",
    "            match_strings = [re.search(r'[-+]?[0-9]*\\.?[0-9]*', ele).group(0) for ele in elements if isinstance(ele,str)]\n",
    "            if all(match_strings):\n",
    "                escape_bool = True\n",
    "                #print(match_strings)\n",
    "            if escape_bool: break        \n",
    "        if escape_bool: break\n",
    "            \n",
    "    #SAVE NUMBERS\n",
    "    #using sqlite\n",
    "    conn = sqlite3.connect('financial info.db')\n",
    "    #conn = sqlite3.connect(':memory:')\n",
    "    sql_values = [time.time(),] + [str(match_strings[i]) for i in [0,1,2,-1]]\n",
    "    with conn:\n",
    "        #create table if it doesnt exist\n",
    "        conn.execute('''CREATE TABLE IF NOT EXISTS Caribbean_Equity_Fund_Trends\n",
    "        (date REAL , offer_price real, bid_price real, ytd_return real, cummulative_from_inception real);''')\n",
    "        \n",
    "        prompt = input(f\"Do you accept these numbers? [Y/N]\\n{sql_values}\\n\")\n",
    "        if 'y' in prompt.lower():\n",
    "            #add values to table\n",
    "            print('You accept these values.')\n",
    "            conn.execute('''INSERT INTO Caribbean_Equity_Fund_Trends \n",
    "            VALUES (?,?,?,?,?);''', sql_values)\n",
    "        else:\n",
    "            print('You do not accept these values.')\n",
    "        \n",
    "        #delete all database values\n",
    "        #conn.execute('DELETE FROM Caribbean_Equity_Fund_Trends;')\n",
    "        \n",
    "        #print values of table\n",
    "        maco = True\n",
    "        if maco:\n",
    "            print(\"This is the current stores values.\")\n",
    "            maco = conn.execute('SELECT * FROM Caribbean_Equity_Fund_Trends;')\n",
    "            for r in maco:\n",
    "                print(r)\n",
    "    conn.close()\n",
    "republic_caribbean_equity_fund()\n"
   ]
  },
  {
   "cell_type": "code",
   "execution_count": 44,
   "metadata": {},
   "outputs": [
    {
     "data": {
      "text/plain": [
       "1604876811.2889225"
      ]
     },
     "execution_count": 44,
     "metadata": {},
     "output_type": "execute_result"
    }
   ],
   "source": [
    "import datetime\n",
    "dir(datetime)\n",
    "#datetime.datetime.now()\n",
    "time.time()"
   ]
  }
 ],
 "metadata": {
  "kernelspec": {
   "display_name": "Python 3",
   "language": "python",
   "name": "python3"
  },
  "language_info": {
   "codemirror_mode": {
    "name": "ipython",
    "version": 3
   },
   "file_extension": ".py",
   "mimetype": "text/x-python",
   "name": "python",
   "nbconvert_exporter": "python",
   "pygments_lexer": "ipython3",
   "version": "3.7.3"
  }
 },
 "nbformat": 4,
 "nbformat_minor": 2
}
